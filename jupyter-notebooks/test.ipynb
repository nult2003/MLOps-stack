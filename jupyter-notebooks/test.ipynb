{
 "cells": [
  {
   "cell_type": "code",
   "execution_count": null,
   "id": "221d2de1",
   "metadata": {
    "vscode": {
     "languageId": "plaintext"
    }
   },
   "outputs": [],
   "source": [
    "import mlflow\n",
    "import numpy as np\n",
    "import pickle\n",
    "import os\n",
    "\n",
    "# Đảm bảo nơi lưu MLflow có quyền ghi\n",
    "mlflow.set_tracking_uri(\"http://10.89.0.11:5000\")\n",
    "print(f\"Tracking URI set to: {mlflow.get_tracking_uri()}\")\n",
    "\n",
    "mlflow.set_experiment(\"Integration Test\")\n",
    "\n",
    "class MockModel:\n",
    "    def predict(self, x):\n",
    "        return x * 2\n",
    "\n",
    "mock_model = MockModel()\n",
    "\n",
    "with mlflow.start_run(run_name=\"mock_training_run\") as run:\n",
    "    mlflow.log_param(\"test_size\", 0.2)\n",
    "    mlflow.log_metric(\"mock_accuracy\", 0.99)\n",
    "    \n",
    "    model_path = \"mock_model.pkl\"\n",
    "    with open(model_path, \"wb\") as f:\n",
    "        pickle.dump(mock_model, f)\n",
    "    \n",
    "    mlflow.log_artifact(model_path, artifact_path=\"model\")\n",
    "    \n",
    "    print(f\"Run ID: {run.info.run_id}\")\n",
    "    print(\"Model artifact logged successfully.\")\n"
   ]
  }
 ],
 "metadata": {
  "language_info": {
   "name": "python"
  }
 },
 "nbformat": 4,
 "nbformat_minor": 5
}
